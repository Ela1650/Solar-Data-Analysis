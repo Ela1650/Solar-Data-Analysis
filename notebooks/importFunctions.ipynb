{
 "cells": [
  {
   "cell_type": "code",
   "execution_count": 8,
   "metadata": {},
   "outputs": [],
   "source": [
    "import pandas as pd\n",
    "import numpy as np\n",
    "import matplotlib.pyplot as plt\n",
    "import seaborn as sns\n",
    "from scipy import stats\n",
    "import sys\n",
    "import os\n",
    "sys.path.append(os.path.abspath(os.path.join(os.getcwd(), '..', 'scripts')))\n",
    "\n",
    "from data_analysis import (load_data, summary_statistics, data_quality_check, plot_time_series, evaluate_cleaning_impact, plot_correlation_heatmap, plot_pairplot, plot_wind_scatter_matrix, plot_wind_polar, plot_wind_direction_variability, plot_temperature_vs_rh, correlation_analysis, plot_histograms, calculate_z_scores, plot_bubble_chart, handle_missing_values, handle_anomalies, handle_outliers)\n",
    "\n",
    "\n"
   ]
  },
  {
   "cell_type": "code",
   "execution_count": null,
   "metadata": {},
   "outputs": [],
   "source": []
  }
 ],
 "metadata": {
  "kernelspec": {
   "display_name": "myvenv",
   "language": "python",
   "name": "python3"
  },
  "language_info": {
   "codemirror_mode": {
    "name": "ipython",
    "version": 3
   },
   "file_extension": ".py",
   "mimetype": "text/x-python",
   "name": "python",
   "nbconvert_exporter": "python",
   "pygments_lexer": "ipython3",
   "version": "3.12.4"
  }
 },
 "nbformat": 4,
 "nbformat_minor": 2
}
