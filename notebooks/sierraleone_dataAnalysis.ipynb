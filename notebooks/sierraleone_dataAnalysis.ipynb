{
 "cells": [
  {
   "cell_type": "code",
   "execution_count": 11,
   "metadata": {},
   "outputs": [
    {
     "name": "stdout",
     "output_type": "stream",
     "text": [
      "Summary Statistics for Sierraleone:\n",
      "                           Timestamp            GHI            DNI  \\\n",
      "count                         525600  525600.000000  525600.000000   \n",
      "mean   2022-04-30 12:00:30.000000768     201.957515     116.376337   \n",
      "min              2021-10-30 00:01:00     -19.500000      -7.800000   \n",
      "25%              2022-01-29 06:00:45      -2.800000      -0.300000   \n",
      "50%              2022-04-30 12:00:30       0.300000      -0.100000   \n",
      "75%              2022-07-30 18:00:15     362.400000     107.000000   \n",
      "max              2022-10-30 00:00:00    1499.000000     946.000000   \n",
      "std                              NaN     298.495150     218.652659   \n",
      "\n",
      "                 DHI           ModA           ModB           Tamb  \\\n",
      "count  525600.000000  525600.000000  525600.000000  525600.000000   \n",
      "mean      113.720571     206.643095     198.114691      26.319394   \n",
      "min       -17.900000       0.000000       0.000000      12.300000   \n",
      "25%        -3.800000       0.000000       0.000000      23.100000   \n",
      "50%        -0.100000       3.600000       3.400000      25.300000   \n",
      "75%       224.700000     359.500000     345.400000      29.400000   \n",
      "max       892.000000    1507.000000    1473.000000      39.900000   \n",
      "std       158.946032     300.896893     288.889073       4.398605   \n",
      "\n",
      "                  RH             WS         WSgust        WSstdev  \\\n",
      "count  525600.000000  525600.000000  525600.000000  525600.000000   \n",
      "mean       79.448857       1.146113       1.691606       0.363823   \n",
      "min         9.900000       0.000000       0.000000       0.000000   \n",
      "25%        68.700000       0.000000       0.000000       0.000000   \n",
      "50%        85.400000       0.800000       1.600000       0.400000   \n",
      "75%        96.700000       2.000000       2.600000       0.600000   \n",
      "max       100.000000      19.200000      23.900000       4.100000   \n",
      "std        20.520775       1.239248       1.617053       0.295000   \n",
      "\n",
      "                  WD        WDstdev             BP       Cleaning  \\\n",
      "count  525600.000000  525600.000000  525600.000000  525600.000000   \n",
      "mean      133.044668       7.172220     999.876469       0.000967   \n",
      "min         0.000000       0.000000     993.000000       0.000000   \n",
      "25%         0.000000       0.000000     999.000000       0.000000   \n",
      "50%       161.500000       6.200000    1000.000000       0.000000   \n",
      "75%       234.100000      12.000000    1001.000000       0.000000   \n",
      "max       360.000000      98.400000    1006.000000       1.000000   \n",
      "std       114.284792       7.535093       2.104419       0.031074   \n",
      "\n",
      "       Precipitation          TModA          TModB  Comments  \n",
      "count  525600.000000  525600.000000  525600.000000       0.0  \n",
      "mean        0.004806      32.504263      32.593091       NaN  \n",
      "min         0.000000      10.700000      11.100000       NaN  \n",
      "25%         0.000000      23.500000      23.800000       NaN  \n",
      "50%         0.000000      26.600000      26.900000       NaN  \n",
      "75%         0.000000      40.900000      41.300000       NaN  \n",
      "max         2.400000      72.800000      70.400000       NaN  \n",
      "std         0.047556      12.434899      12.009161       NaN  \n"
     ]
    }
   ],
   "source": [
    "%run importFunctions.ipynb\n",
    "\n",
    "# Load the Sierraleone dataset\n",
    "sierraleone_df = load_data('C:/Users/KIIT/Desktop/Wind-Solar-Analysis/data/sierraleone-bumbuna.csv')\n",
    "\n",
    "# Summary Statistics\n",
    "print('Summary Statistics for Sierraleone:')\n",
    "print(summary_statistics(sierraleone_df))"
   ]
  },
  {
   "cell_type": "code",
   "execution_count": null,
   "metadata": {},
   "outputs": [],
   "source": [
    "# Data Quality Check\n",
    "columns_to_check = ['GHI', 'DNI', 'DHI', 'ModA', 'ModB', 'WS', 'WSgust']\n",
    "data_quality_check(sierraleone_df, columns_to_check)"
   ]
  },
  {
   "cell_type": "code",
   "execution_count": null,
   "metadata": {},
   "outputs": [],
   "source": [
    "# Plot GHI, DNI, DHI, and Tamb over time for sierraleone dataset\n",
    "plot_time_series(sierraleone_df, ['GHI', 'DNI', 'DHI', 'Tamb'], date_column='Timestamp')\n",
    "\n",
    "# Evaluate the impact of cleaning on ModA and ModB for sierraleone dataset\n",
    "evaluate_cleaning_impact(sierraleone_df, ['ModA', 'ModB'], cleaning_column='Cleaning', date_column='Timestamp')"
   ]
  },
  {
   "cell_type": "code",
   "execution_count": null,
   "metadata": {},
   "outputs": [],
   "source": [
    "# Define the columns to include in the heatmap\n",
    "columns_to_include = ['GHI', 'DNI', 'DHI', 'TModA', 'TModB']\n",
    "plot_correlation_heatmap(sierraleone_df, columns_to_include)\n",
    "\n",
    "# Use the same columns for the pair plot\n",
    "plot_pairplot(sierraleone_df, columns_to_include)\n",
    "\n",
    "# Define the wind-related columns\n",
    "wind_columns = ['WS', 'WSgust', 'WD']\n",
    "# Combine with irradiance columns for the scatter matrix\n",
    "plot_wind_scatter_matrix(sierraleone_df, wind_columns, ['GHI', 'DNI', 'DHI'])"
   ]
  },
  {
   "cell_type": "code",
   "execution_count": null,
   "metadata": {},
   "outputs": [],
   "source": [
    "# Call the function with your dataset\n",
    "plot_wind_polar(sierraleone_df, 'WS', 'WD')\n",
    "\n",
    "\n",
    "# Call the function with your dataset\n",
    "plot_wind_direction_variability(sierraleone_df, 'WD')"
   ]
  },
  {
   "cell_type": "code",
   "execution_count": null,
   "metadata": {},
   "outputs": [],
   "source": [
    "\"\"\"Temperature Analysis\"\"\"\n",
    "\n",
    "# Scatter plot to visualize relationship\n",
    "plot_temperature_vs_rh(sierraleone_df, 'Tamb', 'RH', 'GHI', 'DNI', 'DHI')\n",
    "\n",
    "# Correlation Analysis\n",
    "correlation_analysis(sierraleone_df, ['Tamb', 'RH', 'GHI', 'DNI', 'DHI'])\n"
   ]
  },
  {
   "cell_type": "code",
   "execution_count": null,
   "metadata": {},
   "outputs": [],
   "source": [
    "# Histogram\n",
    "# List of variables to plot histograms for\n",
    "columns = ['GHI', 'DNI', 'DHI', 'WS', 'Tamb']\n",
    "\n",
    "# Plot histograms for the sierraleone dataset\n",
    "plot_histograms(sierraleone_df, columns)"
   ]
  },
  {
   "cell_type": "code",
   "execution_count": null,
   "metadata": {},
   "outputs": [],
   "source": [
    "# Z-Score Analysis \n",
    "\n",
    "# List of variables to perform Z-score analysis on\n",
    "columns = ['GHI', 'DNI', 'DHI', 'Tamb', 'WS']\n",
    "\n",
    "# Calculate Z-scores and flag outliers for the sierraleone dataset\n",
    "sierraleone_z_scores = calculate_z_scores(sierraleone_df, columns)\n",
    "\n",
    "# Display the flagged outliers\n",
    "outliers = sierraleone_df[sierraleone_z_scores.filter(like='_outlier').any(axis=1)]\n",
    "print(\"Outliers in the sierraleone dataset:\")\n",
    "print(outliers)\n",
    "\n",
    "\"\"\" Z-Scores: Each variable (e.g., GHI, DNI) will have a corresponding Z-score column (e.g., GHI_z_score). The Z-score represents the number of standard deviations a data point is from the mean.\n",
    "\n",
    "Outliers: The function will create a boolean column (e.g., GHI_outlier) for each variable, where True indicates that the data point is an outlier (i.e., its absolute Z-score is greater than the threshold).  \"\"\"\n"
   ]
  },
  {
   "cell_type": "code",
   "execution_count": null,
   "metadata": {},
   "outputs": [],
   "source": [
    "# Bubble chart of GHI vs. Tamb vs. WS, with bubble size representing RH (Relative Humidity)\n",
    "plot_bubble_chart(\n",
    "    df=sierraleone_df, \n",
    "    x_column='GHI', \n",
    "    y_column='Tamb', \n",
    "    size_column='WS', \n",
    "    color_column='RH', \n",
    "    title='GHI vs. Tamb vs. WS (Bubble Size) and RH (Color)'\n",
    ")\n"
   ]
  },
  {
   "cell_type": "code",
   "execution_count": null,
   "metadata": {},
   "outputs": [],
   "source": [
    "# Handle missing values\n",
    "sierraleone_df_cleaned= handle_missing_values(sierraleone_df)\n",
    "\n",
    "# Handle anomalies (e.g., negative values)\n",
    "sierraleone_df_cleaned = handle_anomalies(sierraleone_df, columns=['GHI', 'DNI', 'DHI', 'Tamb', 'ModA', 'ModB', 'WS', 'WSgust'])\n",
    "\n",
    "# Handle outliers\n",
    "sierraleone_df_cleaned = handle_outliers(sierraleone_df, columns=['GHI', 'DNI', 'DHI', 'Tamb', 'ModA', 'ModB', 'WS', 'WSgust'])\n",
    "\n",
    "import matplotlib.pyplot as plt\n",
    "\n",
    "# Example: Plotting GHI vs. Time\n",
    "plt.figure(figsize=(10, 6))\n",
    "plt.plot(sierraleone_df_cleaned['Timestamp'], sierraleone_df_cleaned['GHI'], label='GHI')\n",
    "plt.xlabel('Date')\n",
    "plt.ylabel('GHI')\n",
    "plt.title('GHI Over Time')\n",
    "plt.legend()\n",
    "plt.show()\n",
    "\n",
    "# Display the first few rows of the cleaned DataFrame\n",
    "sierraleone_df_cleaned.head()"
   ]
  }
 ],
 "metadata": {
  "kernelspec": {
   "display_name": "myvenv",
   "language": "python",
   "name": "python3"
  },
  "language_info": {
   "codemirror_mode": {
    "name": "ipython",
    "version": 3
   },
   "file_extension": ".py",
   "mimetype": "text/x-python",
   "name": "python",
   "nbconvert_exporter": "python",
   "pygments_lexer": "ipython3",
   "version": "3.12.4"
  }
 },
 "nbformat": 4,
 "nbformat_minor": 2
}
